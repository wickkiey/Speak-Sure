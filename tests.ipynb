{
 "cells": [
  {
   "cell_type": "code",
   "execution_count": 1,
   "metadata": {},
   "outputs": [
    {
     "name": "stderr",
     "output_type": "stream",
     "text": [
      "C:\\Users\\vivek\\AppData\\Roaming\\Python\\Python311\\site-packages\\tqdm\\auto.py:22: TqdmWarning: IProgress not found. Please update jupyter and ipywidgets. See https://ipywidgets.readthedocs.io/en/stable/user_install.html\n",
      "  from .autonotebook import tqdm as notebook_tqdm\n"
     ]
    }
   ],
   "source": [
    "from ctransformers import AutoModelForCausalLM\n",
    "\n"
   ]
  },
  {
   "cell_type": "code",
   "execution_count": 4,
   "metadata": {},
   "outputs": [
    {
     "name": "stdout",
     "output_type": "stream",
     "text": [
      " be a huge part of our lives in the future. It’s already here, and it’s only going to get more advanced as time goes on.\n",
      "\n",
      "The question is: how will we use it? Will we use it for good or evil? And what are the implications of using AI for both purposes?\n",
      "\n",
      "In this article, I’ll explore some of these questions and try to answer them with my own thoughts about where things might go from here.\n",
      "\n",
      "## What is Artificial Intelligence (AI)?\n",
      "\n",
      "Artificial intelligence (AI) is a branch of computer science that deals with the creation of intelligent machines that work and react like humans. AI has been around for decades, but it’s only recently become more mainstream thanks to advances in technology.\n",
      "\n",
      "The term “artificial intelligence” was coined by John McCarthy at Dartmouth College in 1956 when he organized a conference on the subject. The first real-world application of AI came from IBM’s Deep Blue computer which beat world chess champion Garry Kasparov in 1997 after losing their previous match by half a point earlier that year!\n",
      "\n",
      "AI has since been used to solve many problems, including predicting\n"
     ]
    }
   ],
   "source": [
    "# Set gpu_layers to the number of layers to offload to GPU. Set to 0 if no GPU acceleration is available on your system.\n",
    "llm = AutoModelForCausalLM.from_pretrained(\"models\", model_file=\"mistral-7b-v0.1.Q6_K.gguf\", model_type=\"mistral\", gpu_layers=50)\n",
    "\n",
    "print(llm(\"AI is going to\"))\n"
   ]
  },
  {
   "cell_type": "code",
   "execution_count": null,
   "metadata": {},
   "outputs": [],
   "source": []
  }
 ],
 "metadata": {
  "kernelspec": {
   "display_name": "Python 3",
   "language": "python",
   "name": "python3"
  },
  "language_info": {
   "codemirror_mode": {
    "name": "ipython",
    "version": 3
   },
   "file_extension": ".py",
   "mimetype": "text/x-python",
   "name": "python",
   "nbconvert_exporter": "python",
   "pygments_lexer": "ipython3",
   "version": "3.11.7"
  }
 },
 "nbformat": 4,
 "nbformat_minor": 2
}
